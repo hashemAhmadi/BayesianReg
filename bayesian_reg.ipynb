{
 "cells": [
  {
   "cell_type": "code",
   "execution_count": 1,
   "metadata": {
    "collapsed": true
   },
   "outputs": [],
   "source": [
    "import torch\n",
    "from torch.autograd import Variable\n",
    "import torch.nn.functional as F\n",
    "import numpy as np\n",
    "%matplotlib inline\n",
    "import matplotlib.pyplot as plt"
   ]
  },
  {
   "cell_type": "code",
   "execution_count": 2,
   "metadata": {
    "collapsed": false
   },
   "outputs": [
    {
     "data": {
      "image/png": "[encoded data removed]",
      "text/plain": [
       "<matplotlib.figure.Figure at 0x7fbb66c78358>"
      ]
     },
     "metadata": {},
     "output_type": "display_data"
    }
   ],
   "source": [
    "# N is batch size; D_in is input dimension;\n",
    "# H is hidden dimension; D_out is output dimension.\n",
    "N, D_in, D_out = 100, 1, 1\n",
    "\n",
    "def build_linear_dataset(N, p=1, noise_std=0.01):\n",
    "    X = np.random.rand(N, p)\n",
    "    # w = 3\n",
    "    w = 3 * np.ones(p)\n",
    "    # b = 1\n",
    "    y = np.matmul(X, w) + np.repeat(1, N) + np.random.normal(0, noise_std, size=N)\n",
    "    y = y.reshape(N, 1)\n",
    "    X, y = torch.tensor(X).type(torch.Tensor), torch.tensor(y).type(torch.Tensor)\n",
    "    data = torch.cat((X, y), 1)\n",
    "    assert data.shape == (N, p + 1)\n",
    "    return data\n",
    "\n",
    "data = build_linear_dataset(N)\n",
    "x_train = data[:, :-1]\n",
    "y_train = data[:, -1]\n",
    "    \n",
    "\n",
    "\n",
    "plt.scatter(x_train, y_train)\n",
    "\n",
    "x = Variable(x_train)\n",
    "y = Variable(y_train)"
   ]
  },
  {
   "cell_type": "code",
   "execution_count": 3,
   "metadata": {
    "collapsed": false
   },
   "outputs": [],
   "source": [
    "softplus = torch.nn.Softplus()\n",
    "def xavier_init(size):\n",
    "    in_dim = size[0]\n",
    "    xavier_stddev = 1. / np.sqrt(in_dim / 2.)\n",
    "    return Variable(torch.randn(*size) * xavier_stddev, requires_grad=True)\n",
    "\n",
    "def sample_w(mu, var):\n",
    "    eps = Variable(torch.randn(*mu.size()))\n",
    "    return mu + softplus(var) * eps\n",
    "\n",
    "def sample_b(mu, var):\n",
    "    eps = Variable(torch.randn(*mu.size()))\n",
    "    return mu + softplus(var) * eps\n",
    "\n",
    "def KL_diagLogـ(mean, mean_prior, logsigma, logsigma_prior):\n",
    "    # https://tgmstat.wordpress.com/2013/07/10/kullback-leibler-divergence/\n",
    "    mu = mean_prior.view(-1)\n",
    "    mu_pr = mean.view(-1)\n",
    "\n",
    "    logSig = logsigma.view(-1)\n",
    "    logSig_prior = logsigma_prior.view(-1)\n",
    "\n",
    "    A = logSig_prior - logSig\n",
    "    B = torch.pow(mu - mu_pr, 2)  / torch.exp(logSig_prior)\n",
    "    C = torch.exp(logSig - logSig_prior) - 1\n",
    "\n",
    "    return 0.5 * torch.sum(A + B + C)\n",
    "\n",
    "def KL_diagLog(mean, mean_prior, log_sigma, sigma_prior):\n",
    "    mu = mean_prior.view(-1)\n",
    "    mu_pr = mean.view(-1)\n",
    "\n",
    "    Sig = torch.pow(softplus(log_sigma.view(-1)), 2)\n",
    "    Sig_prior = torch.pow(sigma_prior.view(-1),2)\n",
    "    \n",
    "\n",
    "    A = torch.log(Sig_prior) - torch.log(Sig)\n",
    "    B = torch.pow(mu - mu_pr, 2)  / Sig_prior\n",
    "    C = Sig / Sig_prior - 1\n",
    "\n",
    "    return 0.5 * torch.sum(A + B + C)\n",
    "\n",
    "W_mu_prior =  torch.zeros(D_in, D_out)\n",
    "W_var_prior = 10*torch.ones(D_in, D_out)\n",
    "\n",
    "W_mu = xavier_init(size=[D_in, D_out]);\n",
    "W_var = Variable(-3*torch.ones(D_in, D_out), requires_grad=True)\n",
    "#W_var = Variable(-30*torch.ones(D_in, D_out), requires_grad=True)\n",
    "\n",
    "#b_mu_prior = torch.tensor(torch.mean(y_train), dtype = torch.float32) #torch.zeros(D_out)\n",
    "b_mu_prior = torch.zeros(D_out)\n",
    "b_var_prior = 3*torch.ones(D_out)\n",
    "\n",
    "b_mu = Variable(torch.zeros(D_out), requires_grad=True)\n",
    "b_var = Variable(-3*torch.ones(D_out), requires_grad=True)\n",
    "#b_var = Variable(-30*torch.ones(D_out), requires_grad=True)\n",
    "\n",
    "def model(x):  \n",
    "    W = sample_w(W_mu, W_var)\n",
    "    b = sample_b(b_mu, b_var)\n",
    "    out = x @ W + b.repeat(x.size(0), 1)\n",
    "    return out"
   ]
  },
  {
   "cell_type": "code",
   "execution_count": 4,
   "metadata": {
    "collapsed": false
   },
   "outputs": [
    {
     "name": "stdout",
     "output_type": "stream",
     "text": [
      "[iteration 0050] loss: 75.7576\n",
      "[iteration 0100] loss: 39.6202\n",
      "[iteration 0150] loss: 28.5435\n",
      "[iteration 0200] loss: 20.7568\n",
      "[iteration 0250] loss: 15.9748\n",
      "[iteration 0300] loss: 11.8207\n",
      "[iteration 0350] loss: 10.0126\n",
      "[iteration 0400] loss: 9.0888\n",
      "[iteration 0450] loss: 8.2385\n",
      "[iteration 0500] loss: 8.2883\n",
      "[iteration 0550] loss: 8.6016\n",
      "[iteration 0600] loss: 8.3363\n",
      "[iteration 0650] loss: 7.8713\n",
      "[iteration 0700] loss: 7.8859\n",
      "[iteration 0750] loss: 8.1943\n",
      "[iteration 0800] loss: 7.8499\n",
      "[iteration 0850] loss: 7.8832\n",
      "[iteration 0900] loss: 7.8294\n",
      "[iteration 0950] loss: 8.3669\n",
      "[iteration 1000] loss: 9.3878\n"
     ]
    }
   ],
   "source": [
    "# Use the optim package to define an Optimizer that will update the weights of\n",
    "# the model for us. Here we will use Adam; the optim package contains many other\n",
    "# optimization algoriths. The first argument to the Adam constructor tells the\n",
    "# optimizer which Variables it should update.\n",
    "learning_rate = 0.05\n",
    "optimizer = torch.optim.Adam([W_mu, b_mu, W_var, b_var], lr=learning_rate)\n",
    "loss_fn = torch.nn.MSELoss(size_average=False)\n",
    "#loss_fn = torch.nn.NLLLoss(size_average=False)\n",
    "for t in range(1000):\n",
    "    mu = torch.cat((W_mu.view(-1), b_mu.view(-1)))\n",
    "    mu_prior = torch.cat((W_mu_prior.view(-1), b_mu_prior.view(-1)))\n",
    "    var = torch.cat((W_var.view(-1), b_var.view(-1)))\n",
    "    var_prior = torch.cat((W_var_prior.view(-1), b_var_prior.view(-1)))\n",
    "                   \n",
    "    kl_loss = KL_diagLog(mu, mu_prior, var, var_prior)\n",
    "    mc_list = [loss_fn(model(x).squeeze(-1), y) for i in range(10)]\n",
    "    loss = sum(mc_list) / len(mc_list) + kl_loss\n",
    "\n",
    "    if (t+1) % 50 == 0:\n",
    "        print(\"[iteration %04d] loss: %.4f\" % (t + 1, loss.item()))\n",
    "    \n",
    "\n",
    "    # Before the backward pass, use the optimizer object to zero all of the\n",
    "    # gradients for the variables it will update (which are the learnable weights\n",
    "    # of the model)\n",
    "    optimizer.zero_grad()\n",
    "\n",
    "    # Backward pass: compute gradient of the loss with respect to model\n",
    "    # parameters\n",
    "    loss.backward()\n",
    "\n",
    "    # Calling the step function on an Optimizer makes an update to its\n",
    "    # parameters\n",
    "    optimizer.step()"
   ]
  },
  {
   "cell_type": "code",
   "execution_count": 5,
   "metadata": {
    "collapsed": false
   },
   "outputs": [
    {
     "data": {
      "text/plain": [
       "[<matplotlib.lines.Line2D at 0x7fbb60237668>]"
      ]
     },
     "execution_count": 5,
     "metadata": {},
     "output_type": "execute_result"
    },
    {
     "data": {
      "image/png": "[encoded data removed]",
      "text/plain": [
       "<matplotlib.figure.Figure at 0x7fbb60b86278>"
      ]
     },
     "metadata": {},
     "output_type": "display_data"
    }
   ],
   "source": [
    "plt.scatter(x.data.numpy(), y.data.numpy())\n",
    "y_pred1 = model(x)\n",
    "y_pred2 = model(x)\n",
    "y_pred3 = model(x)\n",
    "plt.plot(x.data.numpy(),y_pred1.data.numpy())\n",
    "plt.plot(x.data.numpy(),y_pred2.data.numpy())\n",
    "plt.plot(x.data.numpy(),y_pred3.data.numpy())"
   ]
  },
  {
   "cell_type": "code",
   "execution_count": 6,
   "metadata": {
    "collapsed": false
   },
   "outputs": [
    {
     "name": "stdout",
     "output_type": "stream",
     "text": [
      "tensor([-5.2586])\n",
      "tensor([ 1.0051])\n",
      "tensor([[ 2.9944]])\n",
      "tensor([[-4.0168]])\n"
     ]
    }
   ],
   "source": [
    "print(2*b_var)\n",
    "print(b_mu)\n",
    "print(W_mu)\n",
    "print(2*W_var)"
   ]
  },
  {
   "cell_type": "code",
   "execution_count": 12,
   "metadata": {
    "collapsed": false
   },
   "outputs": [
    {
     "name": "stdout",
     "output_type": "stream",
     "text": [
      "tensor(1.7315)\n",
      "tensor(1.7315)\n"
     ]
    }
   ],
   "source": [
    "mu = torch.tensor([1., 1.2])\n",
    "sigma = torch.tensor([2.5, 2.2])\n",
    "mu_p = torch.tensor([1.5, 1.3])\n",
    "sigma_p = torch.tensor([10., 8.5])\n",
    "print(KL_diagLog(mu, mu_p, sigma, sigma_p))\n",
    "print(KL_diagLogـ(mu, mu_p, 2*torch.log(softplus(sigma)), 2*torch.log(sigma_p)))"
   ]
  },
  {
   "cell_type": "code",
   "execution_count": null,
   "metadata": {
    "collapsed": true
   },
   "outputs": [],
   "source": []
  }
 ],
 "metadata": {
  "kernelspec": {
   "display_name": "Python 3",
   "language": "python",
   "name": "python3"
  },
  "language_info": {
   "codemirror_mode": {
    "name": "ipython",
    "version": 3
   },
   "file_extension": ".py",
   "mimetype": "text/x-python",
   "name": "python",
   "nbconvert_exporter": "python",
   "pygments_lexer": "ipython3",
   "version": "3.6.0"
  }
 },
 "nbformat": 4,
 "nbformat_minor": 2
}
